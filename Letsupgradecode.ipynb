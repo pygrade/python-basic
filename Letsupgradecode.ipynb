{
  "nbformat": 4,
  "nbformat_minor": 0,
  "metadata": {
    "colab": {
      "name": "Letsupgradecode.ipynb",
      "provenance": [],
      "collapsed_sections": [],
      "authorship_tag": "ABX9TyN83LH40hGseXERomUZ4Wre",
      "include_colab_link": true
    },
    "kernelspec": {
      "name": "python3",
      "display_name": "Python 3"
    }
  },
  "cells": [
    {
      "cell_type": "markdown",
      "metadata": {
        "id": "view-in-github",
        "colab_type": "text"
      },
      "source": [
        "<a href=\"https://colab.research.google.com/github/pygrade/python-basic/blob/main/Letsupgradecode.ipynb\" target=\"_parent\"><img src=\"https://colab.research.google.com/assets/colab-badge.svg\" alt=\"Open In Colab\"/></a>"
      ]
    },
    {
      "cell_type": "markdown",
      "metadata": {
        "id": "EaS8AdIMXTtb"
      },
      "source": [
        "**Experiments with list using 5 built in function.**"
      ]
    },
    {
      "cell_type": "code",
      "metadata": {
        "id": "u46KF4NMR8Zl"
      },
      "source": [
        "#Experiments on List with built in functions.\n",
        "data=[1,2,3,4,5,\"python\", \"programming\"]"
      ],
      "execution_count": null,
      "outputs": []
    },
    {
      "cell_type": "code",
      "metadata": {
        "colab": {
          "base_uri": "https://localhost:8080/"
        },
        "id": "WzrI1Rx1Rz1Z",
        "outputId": "96c61c25-674a-4197-be9f-0b5beb4fab6b"
      },
      "source": [
        "print(data)"
      ],
      "execution_count": null,
      "outputs": [
        {
          "output_type": "stream",
          "text": [
            "[1, 2, 3, 4, 5, 'python', 'programming']\n"
          ],
          "name": "stdout"
        }
      ]
    },
    {
      "cell_type": "code",
      "metadata": {
        "colab": {
          "base_uri": "https://localhost:8080/"
        },
        "id": "svRb9nyUUpr7",
        "outputId": "7efd1f5d-8387-43f8-f6f7-26a1e91901dd"
      },
      "source": [
        "#creating list using range function.\n",
        "l_name=list(range(0,10,1))\n",
        "print(l_name)\n",
        "\n"
      ],
      "execution_count": null,
      "outputs": [
        {
          "output_type": "stream",
          "text": [
            "[0, 1, 2, 3, 4, 5, 6, 7, 8, 9]\n"
          ],
          "name": "stdout"
        }
      ]
    },
    {
      "cell_type": "code",
      "metadata": {
        "colab": {
          "base_uri": "https://localhost:8080/"
        },
        "id": "wrTmAuruWCsP",
        "outputId": "3da65abf-37f8-4532-a7e0-76673999ef3e"
      },
      "source": [
        "#use copy() in list\n",
        "data1=[1,2,3,4,5]\n",
        "data2=data1.copy()\n",
        "print(data2)"
      ],
      "execution_count": null,
      "outputs": [
        {
          "output_type": "stream",
          "text": [
            "[1, 2, 3, 4, 5]\n"
          ],
          "name": "stdout"
        }
      ]
    },
    {
      "cell_type": "code",
      "metadata": {
        "colab": {
          "base_uri": "https://localhost:8080/"
        },
        "id": "FaYUy1KLWYR6",
        "outputId": "f46b808e-9d8b-4940-9911-834d814a4815"
      },
      "source": [
        "#use extend() in list.\n",
        "data1=[1,2,3,4,5]\n",
        "data2=[6,7,8,9,10]\n",
        "data1.extend(data2)\n",
        "print(data1)"
      ],
      "execution_count": null,
      "outputs": [
        {
          "output_type": "stream",
          "text": [
            "[1, 2, 3, 4, 5, 6, 7, 8, 9, 10]\n"
          ],
          "name": "stdout"
        }
      ]
    },
    {
      "cell_type": "code",
      "metadata": {
        "colab": {
          "base_uri": "https://localhost:8080/"
        },
        "id": "VggHrE4XW2NI",
        "outputId": "53aa4773-b3a5-45f1-c65a-382a306a26a2"
      },
      "source": [
        "#Use clear() in list.\n",
        "data=[1,2,3,4,5]\n",
        "data.clear()\n",
        "print(data)"
      ],
      "execution_count": null,
      "outputs": [
        {
          "output_type": "stream",
          "text": [
            "[]\n"
          ],
          "name": "stdout"
        }
      ]
    },
    {
      "cell_type": "code",
      "metadata": {
        "colab": {
          "base_uri": "https://localhost:8080/"
        },
        "id": "6pDSn7azX0Ey",
        "outputId": "132dd6e2-5285-45df-cd7d-e6cb403ecadc"
      },
      "source": [
        "#Use pop() in list.\n",
        "data=[1,2,3,4,5]\n",
        "data.pop()\n",
        "print(data)"
      ],
      "execution_count": null,
      "outputs": [
        {
          "output_type": "stream",
          "text": [
            "[1, 2, 3, 4]\n"
          ],
          "name": "stdout"
        }
      ]
    },
    {
      "cell_type": "code",
      "metadata": {
        "id": "RkatCqlzXHiS"
      },
      "source": [
        ""
      ],
      "execution_count": null,
      "outputs": []
    },
    {
      "cell_type": "markdown",
      "metadata": {
        "id": "p6TlvnMbYFqJ"
      },
      "source": [
        "**Experiments with dict using 5 built in function**\n",
        "\n",
        "---\n",
        "\n"
      ]
    },
    {
      "cell_type": "code",
      "metadata": {
        "colab": {
          "base_uri": "https://localhost:8080/"
        },
        "id": "jUAIqcZEYzLh",
        "outputId": "3d0dc407-0e20-42dd-9a3c-541d61abcc14"
      },
      "source": [
        "#Creating a dictionary\n",
        "data={'name':'Python','status':'programming','is_popular':'yes'}\n",
        "print(data)"
      ],
      "execution_count": null,
      "outputs": [
        {
          "output_type": "stream",
          "text": [
            "{'name': 'Python', 'status': 'programming', 'is_popular': 'yes'}\n"
          ],
          "name": "stdout"
        }
      ]
    },
    {
      "cell_type": "code",
      "metadata": {
        "colab": {
          "base_uri": "https://localhost:8080/"
        },
        "id": "XoM--NIDZrwB",
        "outputId": "9a3a242d-472f-4f56-f6ab-73ac4eb6371a"
      },
      "source": [
        "#Creating a dictionary another way\n",
        "data=dict(name=\"python\",status=\"programming\",is_popular='yes')\n",
        "print(data)"
      ],
      "execution_count": null,
      "outputs": [
        {
          "output_type": "stream",
          "text": [
            "{'name': 'python', 'status': 'programming', 'is_popular': 'yes'}\n"
          ],
          "name": "stdout"
        }
      ]
    },
    {
      "cell_type": "code",
      "metadata": {
        "colab": {
          "base_uri": "https://localhost:8080/"
        },
        "id": "95M-rUTabL9W",
        "outputId": "bfa2b0c3-4888-475b-a88e-844875356086"
      },
      "source": [
        "# Use update() in dict.\n",
        "data={'name':'python','status':'programming','is_popular':'yes'}\n",
        "data1={'name':'Django','status':'Framework','is_popular':'yes'}\n",
        "data.update(data1)\n",
        "print(data)"
      ],
      "execution_count": null,
      "outputs": [
        {
          "output_type": "stream",
          "text": [
            "{'name': 'Django', 'status': 'Framework', 'is_popular': 'yes'}\n"
          ],
          "name": "stdout"
        }
      ]
    },
    {
      "cell_type": "code",
      "metadata": {
        "colab": {
          "base_uri": "https://localhost:8080/"
        },
        "id": "X-ijBg8QcK_1",
        "outputId": "17492134-fe6d-4212-83ea-b918da438fc0"
      },
      "source": [
        "#Use pop() in dict.\n",
        "data={'name':'Django','status':'Framework','is_popular':'yes','version':3.1}\n",
        "data.pop('version')\n",
        "print(data)"
      ],
      "execution_count": null,
      "outputs": [
        {
          "output_type": "stream",
          "text": [
            "{'name': 'Django', 'status': 'Framework', 'is_popular': 'yes'}\n"
          ],
          "name": "stdout"
        }
      ]
    },
    {
      "cell_type": "code",
      "metadata": {
        "colab": {
          "base_uri": "https://localhost:8080/"
        },
        "id": "uznd1baBc5q5",
        "outputId": "1d6c36f4-a6f1-40d8-cc08-20a7b3499dab"
      },
      "source": [
        "#Use get() in dict.\n",
        "data={'name':'Django','status':'Framework','is_popular':'yes','version':3.1}\n",
        "get_data=data.get('name')\n",
        "print(get_data)\n"
      ],
      "execution_count": null,
      "outputs": [
        {
          "output_type": "stream",
          "text": [
            "Django\n"
          ],
          "name": "stdout"
        }
      ]
    },
    {
      "cell_type": "code",
      "metadata": {
        "colab": {
          "base_uri": "https://localhost:8080/"
        },
        "id": "ysZmS1CndoJz",
        "outputId": "b7e1e810-3763-4403-a36f-520c8b61a660"
      },
      "source": [
        "#Use clear() in dict.\n",
        "data={'name':'Django','status':'Framework','is_popular':'yes','version':3.1}\n",
        "data.clear()\n",
        "print(data)"
      ],
      "execution_count": null,
      "outputs": [
        {
          "output_type": "stream",
          "text": [
            "{}\n"
          ],
          "name": "stdout"
        }
      ]
    },
    {
      "cell_type": "code",
      "metadata": {
        "colab": {
          "base_uri": "https://localhost:8080/"
        },
        "id": "dPzvZqRCd6Gi",
        "outputId": "d9bc2d18-bc55-41d1-8fdd-6ee173e1cdd4"
      },
      "source": [
        "#Use del() in dict\n",
        "data={'name':'Django','status':'Framework','is_popular':'yes','version':3.1}\n",
        "del data['version']\n",
        "print(data)"
      ],
      "execution_count": null,
      "outputs": [
        {
          "output_type": "stream",
          "text": [
            "{'name': 'Django', 'status': 'Framework', 'is_popular': 'yes'}\n"
          ],
          "name": "stdout"
        }
      ]
    }
  ]
}